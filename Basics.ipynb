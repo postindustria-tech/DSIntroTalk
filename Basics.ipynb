{
 "cells": [
  {
   "cell_type": "code",
   "execution_count": null,
   "metadata": {},
   "outputs": [],
   "source": [
    "import numpy as np\n",
    "from random import random"
   ]
  },
  {
   "cell_type": "markdown",
   "metadata": {},
   "source": [
    "Pandas uses NumPy array library under the hood, NumPy provides a set of classes and types for ultra-fast work with vectors of any dimensions. It uses C heavily and provides lots of optimisations for speed and memory economy. Let's compare the speed with cPython"
   ]
  },
  {
   "cell_type": "code",
   "execution_count": null,
   "metadata": {},
   "outputs": [],
   "source": [
    "%timeit sum([random() for _ in range(1000000)])"
   ]
  },
  {
   "cell_type": "code",
   "execution_count": null,
   "metadata": {},
   "outputs": [],
   "source": [
    "%timeit np.sum(np.random.rand(1000000))"
   ]
  },
  {
   "cell_type": "markdown",
   "metadata": {},
   "source": [
    "Two basic data types of Pandas are Series and DataFrame. Series is a single-dimension data storage, it's similar to traditional dictionary, as it has both values and index"
   ]
  },
  {
   "cell_type": "code",
   "execution_count": null,
   "metadata": {},
   "outputs": [],
   "source": [
    "from pandas import Series, DataFrame"
   ]
  },
  {
   "cell_type": "code",
   "execution_count": null,
   "metadata": {},
   "outputs": [],
   "source": [
    "prime_series = Series([2, 3, 5, 7, 11, 13, 17])\n",
    "prime_series"
   ]
  },
  {
   "cell_type": "code",
   "execution_count": null,
   "metadata": {},
   "outputs": [],
   "source": [
    "prime_series.index"
   ]
  },
  {
   "cell_type": "code",
   "execution_count": null,
   "metadata": {},
   "outputs": [],
   "source": [
    "prime_series.values"
   ]
  },
  {
   "cell_type": "code",
   "execution_count": null,
   "metadata": {},
   "outputs": [],
   "source": [
    "prime_series.name = \"Primes\"\n",
    "prime_series.index.name = \"Order\"\n",
    "prime_series"
   ]
  },
  {
   "cell_type": "code",
   "execution_count": null,
   "metadata": {},
   "outputs": [],
   "source": [
    "prime_series2 = Series([2, 3, 5, 7, 11, 13, 17], index=[\"first\", \"second\", \"third\", \"fourth\", \"fifth\", \"sixth\", \"seventh\"])\n",
    "prime_series2"
   ]
  },
  {
   "cell_type": "markdown",
   "metadata": {},
   "source": [
    "Series supports lots of fancy indexing facilities, besides retrieving values, you can update them "
   ]
  },
  {
   "cell_type": "code",
   "execution_count": null,
   "metadata": {},
   "outputs": [],
   "source": [
    "prime_series2[[\"second\", \"fourth\", \"fifth\"]]"
   ]
  },
  {
   "cell_type": "code",
   "execution_count": null,
   "metadata": {},
   "outputs": [],
   "source": [
    "prime_series2[[\"first\", \"seventh\", \"fifth\"]] = 0\n",
    "prime_series2"
   ]
  },
  {
   "cell_type": "markdown",
   "metadata": {},
   "source": [
    "Also we can filter values, using Bool series as an indexer"
   ]
  },
  {
   "cell_type": "code",
   "execution_count": null,
   "metadata": {},
   "outputs": [],
   "source": [
    "prime_series2 != 0"
   ]
  },
  {
   "cell_type": "code",
   "execution_count": null,
   "metadata": {},
   "outputs": [],
   "source": [
    "prime_series2[prime_series2 != 0]"
   ]
  },
  {
   "cell_type": "code",
   "execution_count": null,
   "metadata": {},
   "outputs": [],
   "source": [
    "prime_series2[(prime_series2!=0) & (prime_series2<10)]"
   ]
  },
  {
   "cell_type": "markdown",
   "metadata": {},
   "source": [
    "Basic operations are applied to every elemnet"
   ]
  },
  {
   "cell_type": "code",
   "execution_count": null,
   "metadata": {},
   "outputs": [],
   "source": [
    "prime_series2[prime_series2 != 0] / 3"
   ]
  },
  {
   "cell_type": "code",
   "execution_count": null,
   "metadata": {},
   "outputs": [],
   "source": [
    "prime_series2.apply(lambda x: x * 2)\n",
    "prime_series2"
   ]
  },
  {
   "cell_type": "code",
   "execution_count": null,
   "metadata": {},
   "outputs": [],
   "source": [
    "prime_series2[prime_series2 != 0].apply(lambda x: 3/x)"
   ]
  },
  {
   "cell_type": "markdown",
   "metadata": {},
   "source": [
    "DataFrame is a two-dimensional data storage, roughly speaking we can treat it as an array of Seires, sharing same index. It has lots of additional functions and ways of initialisation"
   ]
  },
  {
   "cell_type": "code",
   "execution_count": null,
   "metadata": {},
   "outputs": [],
   "source": [
    "raw_data = {    \n",
    "    \"Bar\": (42.0912, 19.0899),\n",
    "    \"Ulcinj\": (41.9311, 19.2148),\n",
    "    \"Petrovac\": (42.2053, 18.9458),\n",
    "    \"Budva\": (42.2911, 18.8403),\n",
    "    \"Tivat\": (42.4350, 18.7066),\n",
    "    \"Kotor\": (42.4247, 18.7712),\n",
    "    \"Herceg Novi\": (42.4572, 18.5315),\n",
    "    \"Podgorica\": (42.4304, 19.2594),\n",
    "    \"Kolasin\": (42.8205, 19.5241),\n",
    "    \"Cetinje\": (42.3931, 18.9116),\n",
    "    \"Niksic\": (42.7805, 18.9562),\n",
    "    \"Zabljak\": (43.1555, 19.1226),\n",
    "    \"Danilovgrad\": (42.5538, 19.1077),\n",
    "    \"Pljevlja\": (43.3582, 19.3513),\n",
    "    \"Bijelo Polje\": (43.0369, 19.7562),\n",
    "}\n",
    "\n",
    "transformed = {\"name\": [], \"latitude\": [], \"longitude\": []}\n",
    "\n",
    "for city, (lat, lng) in raw_data.items():\n",
    "    transformed[\"name\"].append(city)\n",
    "    transformed[\"latitude\"].append(lat)\n",
    "    transformed[\"longitude\"].append(lng)\n",
    "    \n",
    "monty_cities = DataFrame(transformed)\n",
    "monty_cities"
   ]
  },
  {
   "cell_type": "code",
   "execution_count": null,
   "metadata": {},
   "outputs": [],
   "source": [
    "monty_cities.columns"
   ]
  },
  {
   "cell_type": "code",
   "execution_count": null,
   "metadata": {},
   "outputs": [],
   "source": [
    "monty_cities.index"
   ]
  },
  {
   "cell_type": "markdown",
   "metadata": {},
   "source": [
    "We can manipulate with index"
   ]
  },
  {
   "cell_type": "code",
   "execution_count": null,
   "metadata": {},
   "outputs": [],
   "source": [
    "monty_cities.set_index('name', drop=True, inplace=True, verify_integrity=True)  # only drop is True by default\n",
    "monty_cities"
   ]
  },
  {
   "cell_type": "code",
   "execution_count": null,
   "metadata": {},
   "outputs": [],
   "source": [
    "monty_cities.latitude  # same as monty_cities[\"latitude\"]"
   ]
  },
  {
   "cell_type": "markdown",
   "metadata": {},
   "source": [
    "By default, indexer returns data columns, to access rows, exists built-in promerties loc and iloc"
   ]
  },
  {
   "cell_type": "code",
   "execution_count": null,
   "metadata": {},
   "outputs": [],
   "source": [
    "monty_cities.loc[[\"Bar\", \"Kolasin\", \"Pljevlja\"]]"
   ]
  },
  {
   "cell_type": "code",
   "execution_count": null,
   "metadata": {},
   "outputs": [],
   "source": [
    "monty_cities.iloc[[2, 3, 5, 7], [1]]"
   ]
  },
  {
   "cell_type": "markdown",
   "metadata": {},
   "source": [
    "Almost anything you can think of — will work with seires"
   ]
  },
  {
   "cell_type": "code",
   "execution_count": null,
   "metadata": {},
   "outputs": [],
   "source": [
    "monty_cities.iloc[prime_series2[prime_series2>0]]"
   ]
  },
  {
   "cell_type": "code",
   "execution_count": null,
   "metadata": {},
   "outputs": [],
   "source": [
    "monty_cities.loc['Kotor':'Cetinje']"
   ]
  },
  {
   "cell_type": "code",
   "execution_count": null,
   "metadata": {},
   "outputs": [],
   "source": [
    "monty_cities['dist'] = np.sqrt(monty_cities.latitude ** 2 + monty_cities.longitude ** 2)\n",
    "monty_cities"
   ]
  },
  {
   "cell_type": "code",
   "execution_count": null,
   "metadata": {},
   "outputs": [],
   "source": [
    "monty_cities.drop('dist', axis='columns', inplace=True)\n",
    "monty_cities"
   ]
  },
  {
   "cell_type": "code",
   "execution_count": null,
   "metadata": {},
   "outputs": [],
   "source": []
  }
 ],
 "metadata": {
  "kernelspec": {
   "display_name": "Python 3",
   "language": "python",
   "name": "python3"
  },
  "language_info": {
   "codemirror_mode": {
    "name": "ipython",
    "version": 3
   },
   "file_extension": ".py",
   "mimetype": "text/x-python",
   "name": "python",
   "nbconvert_exporter": "python",
   "pygments_lexer": "ipython3",
   "version": "3.7.7"
  }
 },
 "nbformat": 4,
 "nbformat_minor": 4
}
